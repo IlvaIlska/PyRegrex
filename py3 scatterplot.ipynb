{
 "cells": [
  {
   "cell_type": "code",
   "execution_count": 1,
   "id": "considerable-sterling",
   "metadata": {},
   "outputs": [],
   "source": [
    "import pandas as pd #plotting package\n",
    "import numpy as np #arrays\n",
    "import sklearn #regression package\n",
    "import scipy as sp #trash\n",
    "import matplotlib.pyplot as mpl #plotting our scatters\n",
    "\n",
    "from sklearn.linear_model import LinearRegression "
   ]
  },
  {
   "cell_type": "code",
   "execution_count": 2,
   "id": "owned-symphony",
   "metadata": {},
   "outputs": [
    {
     "data": {
      "text/plain": [
       "<AxesSubplot:title={'center':'Python 3 scatter'}, xlabel='x', ylabel='y'>"
      ]
     },
     "execution_count": 2,
     "metadata": {},
     "output_type": "execute_result"
    },
    {
     "data": {
      "image/png": "[encoded data removed]",
      "text/plain": [
       "<Figure size 432x288 with 1 Axes>"
      ]
     },
     "metadata": {
      "needs_background": "light"
     },
     "output_type": "display_data"
    }
   ],
   "source": [
    "read = pd.read_csv('regrex1.csv')\n",
    "read.plot.scatter(x = 'x', y = 'y', title = \"Python 3 scatter\")"
   ]
  },
  {
   "cell_type": "markdown",
   "id": "tight-deadline",
   "metadata": {},
   "source": [
    "# remake 1D array into 2D, then split data into training and test sets "
   ]
  },
  {
   "cell_type": "markdown",
   "id": "interracial-athletics",
   "metadata": {},
   "source": [
    "# [training disabled for this exercise]"
   ]
  },
  {
   "cell_type": "code",
   "execution_count": 3,
   "id": "central-package",
   "metadata": {},
   "outputs": [],
   "source": [
    "\n",
    "data = sklearn.linear_model.LinearRegression()\n",
    "X = read['x'].values.reshape(-1,1)\n",
    "y = read['y'].values.reshape(-1,1)\n",
    "\n",
    "#X_train, X_test, y_train, y_test = train_test_split(X, y, test_size=0.2, random_state=0)\n",
    "X_train = X\n",
    "X_test = X\n",
    "y_train = y\n",
    "y_test = y\n"
   ]
  },
  {
   "cell_type": "markdown",
   "id": "weighted-action",
   "metadata": {},
   "source": [
    "# training the algo, then making predition with test set"
   ]
  },
  {
   "cell_type": "markdown",
   "id": "powerful-combine",
   "metadata": {},
   "source": [
    "# [training disabled for this exercise]"
   ]
  },
  {
   "cell_type": "code",
   "execution_count": 4,
   "id": "sealed-employer",
   "metadata": {},
   "outputs": [],
   "source": [
    "regressor = LinearRegression()  \n",
    "regressor.fit(X_train, y_train) #training the algorithm\n",
    "y_pred = regressor.predict(X_test)"
   ]
  },
  {
   "cell_type": "markdown",
   "id": "negative-tulsa",
   "metadata": {},
   "source": [
    "# plot linear model with original data"
   ]
  },
  {
   "cell_type": "code",
   "execution_count": 5,
   "id": "distant-wiring",
   "metadata": {},
   "outputs": [
    {
     "data": {
      "image/png": "[encoded data removed]",
      "text/plain": [
       "<Figure size 432x288 with 1 Axes>"
      ]
     },
     "metadata": {
      "needs_background": "light"
     },
     "output_type": "display_data"
    }
   ],
   "source": [
    "mpl.scatter(read['x'], read['y'],  color='blue')\n",
    "mpl.plot(X_test, y_pred, color='red', linewidth=2)\n",
    "mpl.title = \"Python 3 Scatter With Regression\"\n",
    "mpl.xlabel('x')\n",
    "mpl.ylabel('y')\n",
    "#mpl.plot()\n",
    "mpl.show()"
   ]
  },
  {
   "cell_type": "code",
   "execution_count": null,
   "id": "novel-storm",
   "metadata": {},
   "outputs": [],
   "source": []
  }
 ],
 "metadata": {
  "kernelspec": {
   "display_name": "Python 3",
   "language": "python",
   "name": "python3"
  },
  "language_info": {
   "codemirror_mode": {
    "name": "ipython",
    "version": 3
   },
   "file_extension": ".py",
   "mimetype": "text/x-python",
   "name": "python",
   "nbconvert_exporter": "python",
   "pygments_lexer": "ipython3",
   "version": "3.8.8"
  }
 },
 "nbformat": 4,
 "nbformat_minor": 5
}
